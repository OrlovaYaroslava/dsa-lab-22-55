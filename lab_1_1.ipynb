{
 "cells": [
  {
   "cell_type": "markdown",
   "metadata": {},
   "source": [
    "1. Считать с клавиатуры три произвольных числа, найти минимальное среди них и вывести на экран."
   ]
  },
  {
   "cell_type": "code",
   "execution_count": 1,
   "metadata": {},
   "outputs": [
    {
     "name": "stdout",
     "output_type": "stream",
     "text": [
      "Минимальное число: 1.0\n"
     ]
    }
   ],
   "source": [
    "# Чтение трех чисел с клавиатуры\n",
    "num1 = float(input(\"Введите первое число: \"))\n",
    "num2 = float(input(\"Введите второе число: \"))\n",
    "num3 = float(input(\"Введите третье число: \"))\n",
    "\n",
    "# Нахождение минимального числа\n",
    "min_num = min(num1, num2, num3)\n",
    "\n",
    "# Вывод минимального числа\n",
    "print(f\"Минимальное число: {min_num}\")\n"
   ]
  },
  {
   "cell_type": "markdown",
   "metadata": {},
   "source": [
    "2. Считать с клавиатуры три произвольных числа, вывести в консоль те числа, которые попадают в интервал [1, 50]."
   ]
  },
  {
   "cell_type": "code",
   "execution_count": 2,
   "metadata": {},
   "outputs": [
    {
     "name": "stdout",
     "output_type": "stream",
     "text": [
      "Числа в интервале [1, 50]:\n",
      "23.0\n",
      "11.0\n"
     ]
    }
   ],
   "source": [
    "# Чтение трех чисел с клавиатуры\n",
    "num1 = float(input(\"Введите первое число: \"))\n",
    "num2 = float(input(\"Введите второе число: \"))\n",
    "num3 = float(input(\"Введите третье число: \"))\n",
    "\n",
    "# Вывод чисел, попадающих в интервал [1, 50]\n",
    "print(\"Числа в интервале [1, 50]:\")\n",
    "if 1 <= num1 <= 50:\n",
    "    print(num1)\n",
    "if 1 <= num2 <= 50:\n",
    "    print(num2)\n",
    "if 1 <= num3 <= 50:\n",
    "    print(num3)\n"
   ]
  },
  {
   "cell_type": "markdown",
   "metadata": {},
   "source": [
    "3. Считать с клавиатуры вещественное число m. Посчитать и вывести в консоль каждый член последовательности: [(1 * m), (2 * m), (3 * m), ..., (10 * m)]"
   ]
  },
  {
   "cell_type": "code",
   "execution_count": 3,
   "metadata": {},
   "outputs": [
    {
     "name": "stdout",
     "output_type": "stream",
     "text": [
      "1.0\n",
      "2.0\n",
      "3.0\n",
      "4.0\n",
      "5.0\n",
      "6.0\n",
      "7.0\n",
      "8.0\n",
      "9.0\n",
      "10.0\n"
     ]
    }
   ],
   "source": [
    "# Чтение вещественного числа с клавиатуры\n",
    "m = float(input(\"Введите вещественное число m: \"))\n",
    "\n",
    "# Вывод каждого члена последовательности\n",
    "for i in range(1, 11):\n",
    "    print(i * m)\n"
   ]
  },
  {
   "cell_type": "markdown",
   "metadata": {},
   "source": [
    "4. Считать с клавиатуры непустую произвольную последовательность целых чисел."
   ]
  },
  {
   "cell_type": "code",
   "execution_count": 3,
   "metadata": {},
   "outputs": [
    {
     "name": "stdout",
     "output_type": "stream",
     "text": [
      "Введите последовательность целых чисел (по одному числу на строке). Введите 'q' для завершения.\n",
      "Сумма чисел: 36\n",
      "Количество чисел: 8\n"
     ]
    }
   ],
   "source": [
    "# Чтение последовательности чисел\n",
    "print(\"Введите последовательность целых чисел (по одному числу на строке). Введите 'q' для завершения.\")\n",
    "\n",
    "numbers = []\n",
    "while True:\n",
    "    user_input = input()\n",
    "    if user_input == \"q\":  # Если введена \"q\", завершение ввода\n",
    "        break\n",
    "    try:\n",
    "        num = int(user_input)\n",
    "        numbers.append(num)\n",
    "    except ValueError:\n",
    "        print(\"Ошибка: введите целое число или 'q' для завершения ввода.\")\n",
    "\n",
    "# Подсчет суммы и количества элементов (цикл while)\n",
    "sum_numbers = 0\n",
    "count = 0\n",
    "i = 0\n",
    "\n",
    "while i < len(numbers):\n",
    "    sum_numbers += numbers[i]\n",
    "    count += 1\n",
    "    i += 1\n",
    "\n",
    "# Вывод результата\n",
    "print(f\"Сумма чисел: {sum_numbers}\")\n",
    "print(f\"Количество чисел: {count}\")\n"
   ]
  }
 ],
 "metadata": {
  "kernelspec": {
   "display_name": "Python 3",
   "language": "python",
   "name": "python3"
  },
  "language_info": {
   "codemirror_mode": {
    "name": "ipython",
    "version": 3
   },
   "file_extension": ".py",
   "mimetype": "text/x-python",
   "name": "python",
   "nbconvert_exporter": "python",
   "pygments_lexer": "ipython3",
   "version": "3.10.11"
  }
 },
 "nbformat": 4,
 "nbformat_minor": 2
}
